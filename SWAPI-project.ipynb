{
 "cells": [
  {
   "cell_type": "markdown",
   "metadata": {},
   "source": [
    "# SWAPI-project"
   ]
  },
  {
   "cell_type": "markdown",
   "metadata": {},
   "source": [
    "###  *1. Internal code cells*"
   ]
  },
  {
   "cell_type": "code",
   "execution_count": null,
   "metadata": {},
   "outputs": [],
   "source": [
    "import requests\n",
    "import json"
   ]
  },
  {
   "cell_type": "code",
   "execution_count": null,
   "metadata": {},
   "outputs": [],
   "source": [
    "response_1 = requests.get('https://swapi.co/api/films/')  # check request status\n",
    "response_1"
   ]
  },
  {
   "cell_type": "code",
   "execution_count": null,
   "metadata": {
    "scrolled": true
   },
   "outputs": [],
   "source": [
    "data_1 = json.loads(response_1.text)['results'] # transform films json to dicts filtered by key=results\n"
   ]
  },
  {
   "cell_type": "code",
   "execution_count": null,
   "metadata": {},
   "outputs": [],
   "source": [
    "# characters load from all pages\n",
    "\n",
    "data_2 = [] \n",
    "for x in range(1, 10):\n",
    "    respon = requests.get(\"https://swapi.co/api/people/?page=\"+str(x))\n",
    "    datos = respon.json()\n",
    "\n",
    "    next_page = datos[\"next\"]\n",
    "    data_2.extend(datos[\"results\"])\n",
    "\n",
    "character_list = [x['name'] for x in data_2] # list with all the characters "
   ]
  },
  {
   "cell_type": "code",
   "execution_count": null,
   "metadata": {},
   "outputs": [],
   "source": [
    "# films title list\n",
    "\n",
    "films = [l['title'] for l in data_1]\n",
    "films"
   ]
  },
  {
   "cell_type": "code",
   "execution_count": null,
   "metadata": {},
   "outputs": [],
   "source": [
    "# films characters list\n",
    "\n",
    "characters = [l['characters'] for l in data_1]\n"
   ]
  },
  {
   "cell_type": "code",
   "execution_count": null,
   "metadata": {},
   "outputs": [],
   "source": [
    "len(films) == len(characters) # checking the same lenght before zipping"
   ]
  },
  {
   "cell_type": "code",
   "execution_count": null,
   "metadata": {},
   "outputs": [],
   "source": [
    "# zip both list to create a dict {film: characters}\n",
    "\n",
    "zipped = list(zip(films, characters))\n",
    "films_characters = dict(zipped)\n"
   ]
  },
  {
   "cell_type": "code",
   "execution_count": null,
   "metadata": {},
   "outputs": [],
   "source": [
    "# search function\n",
    "\n",
    "def search_names(name_1 ):\n",
    "    \n",
    "    result_search =[]\n",
    "        \n",
    "    response_1 = requests.get(\"https://swapi.co/api/people/?search=\"+str(name_1))\n",
    "    code_1 = response_1.status_code\n",
    "    \n",
    "    if code_1 == 200:\n",
    "        res_1 = json.loads(response_1.text)['results'][-1]\n",
    "        result_search.append(res_1['url'])\n",
    "        \n",
    "    else:\n",
    "        print('Oops!!! Something is wrong with SWAPI connection, please try again in a while... Sorry :(')\n",
    "\n",
    "        \n",
    "    \n",
    "    return result_search\n",
    "\n",
    "    \n",
    "    "
   ]
  },
  {
   "cell_type": "markdown",
   "metadata": {},
   "source": [
    "### *2. Users' inputs and program output*"
   ]
  },
  {
   "cell_type": "code",
   "execution_count": null,
   "metadata": {},
   "outputs": [],
   "source": [
    "user_name = input('Welcome to Star Wars Database! Please, enter your name: ')"
   ]
  },
  {
   "cell_type": "code",
   "execution_count": null,
   "metadata": {},
   "outputs": [],
   "source": [
    "print('Hi %s' %(user_name))"
   ]
  },
  {
   "cell_type": "code",
   "execution_count": null,
   "metadata": {},
   "outputs": [],
   "source": [
    "print(' Now you need to enter the name of two SW characters')"
   ]
  },
  {
   "cell_type": "code",
   "execution_count": null,
   "metadata": {
    "scrolled": true
   },
   "outputs": [],
   "source": [
    "choice_1 = input('Enter your firts SW character name: ')\n",
    "\n",
    "while True:\n",
    "    try:\n",
    "        \n",
    "        search_names(choice_1)  # call the function search_names with choice_1 as argument\n",
    "        search_1 = search_names(choice_1)\n",
    "        break\n",
    "    except IndexError:\n",
    "        print('That is not a Star Wars character... Try again please!!!')\n",
    "        break\n"
   ]
  },
  {
   "cell_type": "code",
   "execution_count": null,
   "metadata": {},
   "outputs": [],
   "source": [
    "choice_2 = input('Enter your second SW character name: ')\n",
    "\n",
    "while True:\n",
    "    try:\n",
    "        search_names(choice_2)    # call the function search_names with choice_2 as argument\n",
    "        search_2 = search_names(choice_2)\n",
    "        break\n",
    "    except IndexError:\n",
    "        print('That is not a Star Wars character... Try again please!!!')\n",
    "        break\n"
   ]
  },
  {
   "cell_type": "code",
   "execution_count": null,
   "metadata": {
    "scrolled": true
   },
   "outputs": [],
   "source": [
    "values = search_1 + search_2"
   ]
  },
  {
   "cell_type": "code",
   "execution_count": null,
   "metadata": {
    "scrolled": true
   },
   "outputs": [],
   "source": [
    "# iteration over film_characters dict to match both inputs and return the films name\n",
    "\n",
    "film_check = [key for key, value in films_characters.items() if all(item in value for item in values)]\n",
    "\n",
    "if len(film_check) == 0:\n",
    "    print('Oops! It looks like the characters you choose haven\\'t been in the same film' )\n",
    "    \n",
    "elif len(film_check) == 1:\n",
    "    print('Only in this film %s and %s have been in!!'%(choice_1.title(),choice_2.title()) + ' - ' + film_check[0])\n",
    "    \n",
    "else:\n",
    "    print('These are the films where %s and %s have been in!! ' %(choice_1.title(), choice_2.title()))\n",
    "\n",
    "\n",
    "    \n",
    "    [ print( str(ind + 1) + '-'  + film_check ) for ind, film_check in enumerate(film_check) ]"
   ]
  },
  {
   "cell_type": "code",
   "execution_count": null,
   "metadata": {},
   "outputs": [],
   "source": [
    "print('It\\'s amaizing, isn\\'t it? Try over again through all the characters!!')"
   ]
  },
  {
   "cell_type": "code",
   "execution_count": null,
   "metadata": {},
   "outputs": [],
   "source": [
    "# check the list of all characters\n",
    "\n",
    "print('Just in case that you don\\'t remember, here is a list with all the characters\\' names: ')\n",
    "character_list"
   ]
  }
 ],
 "metadata": {
  "kernelspec": {
   "display_name": "Python 3",
   "language": "python",
   "name": "python3"
  },
  "language_info": {
   "codemirror_mode": {
    "name": "ipython",
    "version": 3
   },
   "file_extension": ".py",
   "mimetype": "text/x-python",
   "name": "python",
   "nbconvert_exporter": "python",
   "pygments_lexer": "ipython3",
   "version": "3.7.3"
  }
 },
 "nbformat": 4,
 "nbformat_minor": 2
}
